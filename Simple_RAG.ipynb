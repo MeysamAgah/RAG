{
  "nbformat": 4,
  "nbformat_minor": 0,
  "metadata": {
    "colab": {
      "provenance": [],
      "gpuType": "T4"
    },
    "kernelspec": {
      "name": "python3",
      "display_name": "Python 3"
    },
    "language_info": {
      "name": "python"
    },
    "accelerator": "GPU",
    "widgets": {
      "application/vnd.jupyter.widget-state+json": {
        "2d8ed138a63e47b6a1a7e0265e98f04b": {
          "model_module": "@jupyter-widgets/controls",
          "model_name": "HBoxModel",
          "model_module_version": "1.5.0",
          "state": {
            "_dom_classes": [],
            "_model_module": "@jupyter-widgets/controls",
            "_model_module_version": "1.5.0",
            "_model_name": "HBoxModel",
            "_view_count": null,
            "_view_module": "@jupyter-widgets/controls",
            "_view_module_version": "1.5.0",
            "_view_name": "HBoxView",
            "box_style": "",
            "children": [
              "IPY_MODEL_b1a9b3afa63948f6b95dbde03d88cf8d",
              "IPY_MODEL_7411065ddac3452f84feb27120330857",
              "IPY_MODEL_80dd70f9e7d443b68a811911f16cf6f4"
            ],
            "layout": "IPY_MODEL_c280389ed8984f88a58e59549408a563"
          }
        },
        "b1a9b3afa63948f6b95dbde03d88cf8d": {
          "model_module": "@jupyter-widgets/controls",
          "model_name": "HTMLModel",
          "model_module_version": "1.5.0",
          "state": {
            "_dom_classes": [],
            "_model_module": "@jupyter-widgets/controls",
            "_model_module_version": "1.5.0",
            "_model_name": "HTMLModel",
            "_view_count": null,
            "_view_module": "@jupyter-widgets/controls",
            "_view_module_version": "1.5.0",
            "_view_name": "HTMLView",
            "description": "",
            "description_tooltip": null,
            "layout": "IPY_MODEL_6f0222cbb22c4f9da641baa164464d34",
            "placeholder": "​",
            "style": "IPY_MODEL_2157790713d04410883eea2a1f92b0cf",
            "value": "Loading checkpoint shards: 100%"
          }
        },
        "7411065ddac3452f84feb27120330857": {
          "model_module": "@jupyter-widgets/controls",
          "model_name": "FloatProgressModel",
          "model_module_version": "1.5.0",
          "state": {
            "_dom_classes": [],
            "_model_module": "@jupyter-widgets/controls",
            "_model_module_version": "1.5.0",
            "_model_name": "FloatProgressModel",
            "_view_count": null,
            "_view_module": "@jupyter-widgets/controls",
            "_view_module_version": "1.5.0",
            "_view_name": "ProgressView",
            "bar_style": "success",
            "description": "",
            "description_tooltip": null,
            "layout": "IPY_MODEL_5121fd3fffa242edaef1e1a8208669bc",
            "max": 4,
            "min": 0,
            "orientation": "horizontal",
            "style": "IPY_MODEL_6893d91f89094153a5e6c205110a73b9",
            "value": 4
          }
        },
        "80dd70f9e7d443b68a811911f16cf6f4": {
          "model_module": "@jupyter-widgets/controls",
          "model_name": "HTMLModel",
          "model_module_version": "1.5.0",
          "state": {
            "_dom_classes": [],
            "_model_module": "@jupyter-widgets/controls",
            "_model_module_version": "1.5.0",
            "_model_name": "HTMLModel",
            "_view_count": null,
            "_view_module": "@jupyter-widgets/controls",
            "_view_module_version": "1.5.0",
            "_view_name": "HTMLView",
            "description": "",
            "description_tooltip": null,
            "layout": "IPY_MODEL_63b9d39709c340aeb7d787b50660f2c8",
            "placeholder": "​",
            "style": "IPY_MODEL_69705c0db97441479aee6b6b71a48a51",
            "value": " 4/4 [00:50&lt;00:00, 10.24s/it]"
          }
        },
        "c280389ed8984f88a58e59549408a563": {
          "model_module": "@jupyter-widgets/base",
          "model_name": "LayoutModel",
          "model_module_version": "1.2.0",
          "state": {
            "_model_module": "@jupyter-widgets/base",
            "_model_module_version": "1.2.0",
            "_model_name": "LayoutModel",
            "_view_count": null,
            "_view_module": "@jupyter-widgets/base",
            "_view_module_version": "1.2.0",
            "_view_name": "LayoutView",
            "align_content": null,
            "align_items": null,
            "align_self": null,
            "border": null,
            "bottom": null,
            "display": null,
            "flex": null,
            "flex_flow": null,
            "grid_area": null,
            "grid_auto_columns": null,
            "grid_auto_flow": null,
            "grid_auto_rows": null,
            "grid_column": null,
            "grid_gap": null,
            "grid_row": null,
            "grid_template_areas": null,
            "grid_template_columns": null,
            "grid_template_rows": null,
            "height": null,
            "justify_content": null,
            "justify_items": null,
            "left": null,
            "margin": null,
            "max_height": null,
            "max_width": null,
            "min_height": null,
            "min_width": null,
            "object_fit": null,
            "object_position": null,
            "order": null,
            "overflow": null,
            "overflow_x": null,
            "overflow_y": null,
            "padding": null,
            "right": null,
            "top": null,
            "visibility": null,
            "width": null
          }
        },
        "6f0222cbb22c4f9da641baa164464d34": {
          "model_module": "@jupyter-widgets/base",
          "model_name": "LayoutModel",
          "model_module_version": "1.2.0",
          "state": {
            "_model_module": "@jupyter-widgets/base",
            "_model_module_version": "1.2.0",
            "_model_name": "LayoutModel",
            "_view_count": null,
            "_view_module": "@jupyter-widgets/base",
            "_view_module_version": "1.2.0",
            "_view_name": "LayoutView",
            "align_content": null,
            "align_items": null,
            "align_self": null,
            "border": null,
            "bottom": null,
            "display": null,
            "flex": null,
            "flex_flow": null,
            "grid_area": null,
            "grid_auto_columns": null,
            "grid_auto_flow": null,
            "grid_auto_rows": null,
            "grid_column": null,
            "grid_gap": null,
            "grid_row": null,
            "grid_template_areas": null,
            "grid_template_columns": null,
            "grid_template_rows": null,
            "height": null,
            "justify_content": null,
            "justify_items": null,
            "left": null,
            "margin": null,
            "max_height": null,
            "max_width": null,
            "min_height": null,
            "min_width": null,
            "object_fit": null,
            "object_position": null,
            "order": null,
            "overflow": null,
            "overflow_x": null,
            "overflow_y": null,
            "padding": null,
            "right": null,
            "top": null,
            "visibility": null,
            "width": null
          }
        },
        "2157790713d04410883eea2a1f92b0cf": {
          "model_module": "@jupyter-widgets/controls",
          "model_name": "DescriptionStyleModel",
          "model_module_version": "1.5.0",
          "state": {
            "_model_module": "@jupyter-widgets/controls",
            "_model_module_version": "1.5.0",
            "_model_name": "DescriptionStyleModel",
            "_view_count": null,
            "_view_module": "@jupyter-widgets/base",
            "_view_module_version": "1.2.0",
            "_view_name": "StyleView",
            "description_width": ""
          }
        },
        "5121fd3fffa242edaef1e1a8208669bc": {
          "model_module": "@jupyter-widgets/base",
          "model_name": "LayoutModel",
          "model_module_version": "1.2.0",
          "state": {
            "_model_module": "@jupyter-widgets/base",
            "_model_module_version": "1.2.0",
            "_model_name": "LayoutModel",
            "_view_count": null,
            "_view_module": "@jupyter-widgets/base",
            "_view_module_version": "1.2.0",
            "_view_name": "LayoutView",
            "align_content": null,
            "align_items": null,
            "align_self": null,
            "border": null,
            "bottom": null,
            "display": null,
            "flex": null,
            "flex_flow": null,
            "grid_area": null,
            "grid_auto_columns": null,
            "grid_auto_flow": null,
            "grid_auto_rows": null,
            "grid_column": null,
            "grid_gap": null,
            "grid_row": null,
            "grid_template_areas": null,
            "grid_template_columns": null,
            "grid_template_rows": null,
            "height": null,
            "justify_content": null,
            "justify_items": null,
            "left": null,
            "margin": null,
            "max_height": null,
            "max_width": null,
            "min_height": null,
            "min_width": null,
            "object_fit": null,
            "object_position": null,
            "order": null,
            "overflow": null,
            "overflow_x": null,
            "overflow_y": null,
            "padding": null,
            "right": null,
            "top": null,
            "visibility": null,
            "width": null
          }
        },
        "6893d91f89094153a5e6c205110a73b9": {
          "model_module": "@jupyter-widgets/controls",
          "model_name": "ProgressStyleModel",
          "model_module_version": "1.5.0",
          "state": {
            "_model_module": "@jupyter-widgets/controls",
            "_model_module_version": "1.5.0",
            "_model_name": "ProgressStyleModel",
            "_view_count": null,
            "_view_module": "@jupyter-widgets/base",
            "_view_module_version": "1.2.0",
            "_view_name": "StyleView",
            "bar_color": null,
            "description_width": ""
          }
        },
        "63b9d39709c340aeb7d787b50660f2c8": {
          "model_module": "@jupyter-widgets/base",
          "model_name": "LayoutModel",
          "model_module_version": "1.2.0",
          "state": {
            "_model_module": "@jupyter-widgets/base",
            "_model_module_version": "1.2.0",
            "_model_name": "LayoutModel",
            "_view_count": null,
            "_view_module": "@jupyter-widgets/base",
            "_view_module_version": "1.2.0",
            "_view_name": "LayoutView",
            "align_content": null,
            "align_items": null,
            "align_self": null,
            "border": null,
            "bottom": null,
            "display": null,
            "flex": null,
            "flex_flow": null,
            "grid_area": null,
            "grid_auto_columns": null,
            "grid_auto_flow": null,
            "grid_auto_rows": null,
            "grid_column": null,
            "grid_gap": null,
            "grid_row": null,
            "grid_template_areas": null,
            "grid_template_columns": null,
            "grid_template_rows": null,
            "height": null,
            "justify_content": null,
            "justify_items": null,
            "left": null,
            "margin": null,
            "max_height": null,
            "max_width": null,
            "min_height": null,
            "min_width": null,
            "object_fit": null,
            "object_position": null,
            "order": null,
            "overflow": null,
            "overflow_x": null,
            "overflow_y": null,
            "padding": null,
            "right": null,
            "top": null,
            "visibility": null,
            "width": null
          }
        },
        "69705c0db97441479aee6b6b71a48a51": {
          "model_module": "@jupyter-widgets/controls",
          "model_name": "DescriptionStyleModel",
          "model_module_version": "1.5.0",
          "state": {
            "_model_module": "@jupyter-widgets/controls",
            "_model_module_version": "1.5.0",
            "_model_name": "DescriptionStyleModel",
            "_view_count": null,
            "_view_module": "@jupyter-widgets/base",
            "_view_module_version": "1.2.0",
            "_view_name": "StyleView",
            "description_width": ""
          }
        }
      }
    }
  },
  "cells": [
    {
      "cell_type": "code",
      "source": [
        "# imports\n",
        "import pypdf # convert pdf to text\n",
        "from sentence_transformers import SentenceTransformer # embedding model\n",
        "from transformers import AutoTokenizer, AutoModelForCausalLM # language model\n",
        "import torch # helper for hugging face tools\n",
        "import numpy as np # handling vectores\n",
        "import faiss # vectore database\n",
        "import os"
      ],
      "metadata": {
        "id": "1s_r0W7zlYT6"
      },
      "execution_count": 1,
      "outputs": []
    },
    {
      "cell_type": "code",
      "source": [
        "# find uploaded document path\n",
        "def documents_path(directory='/content/'):\n",
        "  doc_list = os.listdir('/content/')\n",
        "  doc_list.remove('.config')\n",
        "  doc_list.remove('sample_data')\n",
        "  return doc_list\n",
        "\n",
        "# convert pdf to text\n",
        "def pdf_to_text(pdf_path):\n",
        "    text = \"\"\n",
        "    with open(pdf_path, \"rb\") as file:\n",
        "        reader = pypdf.PdfReader(file)\n",
        "        for page in reader.pages:\n",
        "            text += page.extract_text() + \"\\n\"\n",
        "    return text\n",
        "\n",
        "# saving all texts as 1 text file\n",
        "def text_of_docs(docs_path):\n",
        "  full_text = \"\"\n",
        "  for p in docs_path:\n",
        "    full_text += pdf_to_text(\"/content/\" + p)\n",
        "  return full_text\n",
        "\n",
        "# chunk documents\n",
        "def chunk_text(text, n, overlap):\n",
        "    chunks = []\n",
        "    for i in range(0, len(text), n - overlap):\n",
        "        chunks.append(text[i:i + n])\n",
        "    return chunks\n",
        "\n",
        "# embedding chunks\n",
        "def embedding_chunks(chunks, model_name = 'nomic-ai/modernbert-embed-base'):\n",
        "  embedding_model = SentenceTransformer(model_name)\n",
        "  embeddings = embedding_model.encode(chunks)\n",
        "  return embeddings\n",
        "\n",
        "# vectore database\n",
        "def vector_db(embeddings, chunks):\n",
        "  # Create a FAISS index\n",
        "  index = faiss.IndexFlatL2(embeddings.shape[1])  # L2 is Euclidean distance\n",
        "\n",
        "  # Add our vectors to the index\n",
        "  index.add(embeddings.astype(np.float32))  # FAISS requires float32\n",
        "\n",
        "  # Create a mapping from index position to document chunk for retrieval\n",
        "  index_to_doc_chunk = {i: doc for i, doc in enumerate(chunks)}\n",
        "\n",
        "  return index, index_to_doc_chunk\n",
        "\n",
        "# LLM model\n",
        "def LLM(model_name = 'Qwen/Qwen2.5-7B-Instruct'):\n",
        "  model = AutoModelForCausalLM.from_pretrained(\n",
        "          model_name,\n",
        "          torch_dtype=\"auto\",\n",
        "          device_map=\"auto\"\n",
        "  )\n",
        "  tokenizer = AutoTokenizer.from_pretrained(model_name)\n",
        "\n",
        "  return model, tokenizer\n",
        "\n",
        "# generate prompt according to context and query\n",
        "def query2prompt(query, index, index_mapping, top_k=10):\n",
        "  # Step 1: Convert query to embedding\n",
        "  query_embedding = embedding_chunks([query])\n",
        "  query_embedding = query_embedding.astype(np.float32)  # Convert to float32 for FAISS\n",
        "\n",
        "  # Step 2: Search for similar documents\n",
        "  distances, indices = index.search(query_embedding, 10)\n",
        "\n",
        "  # Step 3: Retrieve the actual document chunks\n",
        "  retrieved_docs = [index_mapping[idx] for idx in indices[0]]\n",
        "\n",
        "  # Create context from retrieved documents\n",
        "  context = \"nn\".join(retrieved_docs)\n",
        "\n",
        "  prompt = f\"\"\"\n",
        "  Context:\n",
        "     {context}\n",
        "   <|user|>\n",
        "   {query}\n",
        "   <|assistant|>\n",
        "   \"\"\"\n",
        "\n",
        "  return prompt\n",
        "\n",
        "# generate output by prompt\n",
        "def generate_message(prompt):\n",
        "  messages = [\n",
        "      {\"role\": \"system\", \"content\": '''You are a helpful AI assistant. Answer the question based only on the provided context.\n",
        "      If you don't know the answer based on the context, say \"I don't have enough information to answer this question.\"'''},\n",
        "      {\"role\": \"user\", \"content\": prompt}\n",
        "  ]\n",
        "\n",
        "  text = tokenizer.apply_chat_template(\n",
        "          messages,\n",
        "          tokenize=False,\n",
        "          add_generation_prompt=True\n",
        "  )\n",
        "\n",
        "  model_inputs = tokenizer([text], return_tensors=\"pt\").to(model.device)\n",
        "\n",
        "  generated_ids = model.generate(\n",
        "          **model_inputs,\n",
        "          max_new_tokens=512\n",
        "  )\n",
        "\n",
        "  generated_ids = [\n",
        "      output_ids[len(input_ids):] for input_ids, output_ids in zip(model_inputs.input_ids, generated_ids)\n",
        "  ]\n",
        "\n",
        "  response = tokenizer.batch_decode(generated_ids, skip_special_tokens=True)[0]\n",
        "\n",
        "  return response"
      ],
      "metadata": {
        "id": "2fk2_Q7qmuXT"
      },
      "execution_count": 2,
      "outputs": []
    },
    {
      "cell_type": "code",
      "source": [
        "%%time\n",
        "doc_list = documents_path()"
      ],
      "metadata": {
        "id": "YpD_0LPD9w-Q",
        "colab": {
          "base_uri": "https://localhost:8080/"
        },
        "outputId": "05fb604d-4dc9-4ae0-c03e-0c76d982c441"
      },
      "execution_count": 3,
      "outputs": [
        {
          "output_type": "stream",
          "name": "stdout",
          "text": [
            "CPU times: user 675 µs, sys: 0 ns, total: 675 µs\n",
            "Wall time: 543 µs\n"
          ]
        }
      ]
    },
    {
      "cell_type": "code",
      "source": [
        "%time\n",
        "full_text = text_of_docs(doc_list)"
      ],
      "metadata": {
        "id": "gvNdfS6a-Jof",
        "colab": {
          "base_uri": "https://localhost:8080/"
        },
        "outputId": "3b7bee52-69b8-4891-9c8d-ab9083dd341e"
      },
      "execution_count": 4,
      "outputs": [
        {
          "output_type": "stream",
          "name": "stdout",
          "text": [
            "CPU times: user 3 µs, sys: 1 µs, total: 4 µs\n",
            "Wall time: 6.91 µs\n"
          ]
        }
      ]
    },
    {
      "cell_type": "code",
      "source": [
        "%%time\n",
        "chunks = chunk_text(full_text, 500, 50)"
      ],
      "metadata": {
        "colab": {
          "base_uri": "https://localhost:8080/"
        },
        "id": "PhEABtP5bM7_",
        "outputId": "99819914-8d1d-4f00-f791-5bd561398c82"
      },
      "execution_count": 5,
      "outputs": [
        {
          "output_type": "stream",
          "name": "stdout",
          "text": [
            "CPU times: user 0 ns, sys: 922 µs, total: 922 µs\n",
            "Wall time: 930 µs\n"
          ]
        }
      ]
    },
    {
      "cell_type": "code",
      "source": [
        "%%time\n",
        "embeddings = embedding_chunks(chunks)"
      ],
      "metadata": {
        "colab": {
          "base_uri": "https://localhost:8080/"
        },
        "id": "q-F_TEB0bNAC",
        "outputId": "9698a785-fb04-4535-9dcc-71a7d21c7290"
      },
      "execution_count": 6,
      "outputs": [
        {
          "output_type": "stream",
          "name": "stderr",
          "text": [
            "/usr/local/lib/python3.11/dist-packages/huggingface_hub/utils/_auth.py:94: UserWarning: \n",
            "The secret `HF_TOKEN` does not exist in your Colab secrets.\n",
            "To authenticate with the Hugging Face Hub, create a token in your settings tab (https://huggingface.co/settings/tokens), set it as secret in your Google Colab and restart your session.\n",
            "You will be able to reuse this secret in all of your notebooks.\n",
            "Please note that authentication is recommended but still optional to access public models or datasets.\n",
            "  warnings.warn(\n"
          ]
        },
        {
          "output_type": "stream",
          "name": "stdout",
          "text": [
            "CPU times: user 17.4 s, sys: 1.54 s, total: 18.9 s\n",
            "Wall time: 33.5 s\n"
          ]
        }
      ]
    },
    {
      "cell_type": "code",
      "source": [
        "%%time\n",
        "vector_database = vector_db(embeddings, chunks)\n",
        "index = vector_database[0]\n",
        "index_to_doc_mapping = vector_database[1]"
      ],
      "metadata": {
        "colab": {
          "base_uri": "https://localhost:8080/"
        },
        "id": "fvoN46xibNGH",
        "outputId": "db64afe8-39a4-497b-8c10-4a05e0ffeeb3"
      },
      "execution_count": 7,
      "outputs": [
        {
          "output_type": "stream",
          "name": "stdout",
          "text": [
            "CPU times: user 1.24 ms, sys: 4.02 ms, total: 5.26 ms\n",
            "Wall time: 5.13 ms\n"
          ]
        }
      ]
    },
    {
      "cell_type": "code",
      "source": [
        "%%time\n",
        "LLM_model = LLM(model_name = 'Qwen/Qwen2.5-7B-Instruct')\n",
        "model = LLM_model[0]\n",
        "tokenizer = LLM_model[1]"
      ],
      "metadata": {
        "colab": {
          "base_uri": "https://localhost:8080/",
          "height": 118,
          "referenced_widgets": [
            "2d8ed138a63e47b6a1a7e0265e98f04b",
            "b1a9b3afa63948f6b95dbde03d88cf8d",
            "7411065ddac3452f84feb27120330857",
            "80dd70f9e7d443b68a811911f16cf6f4",
            "c280389ed8984f88a58e59549408a563",
            "6f0222cbb22c4f9da641baa164464d34",
            "2157790713d04410883eea2a1f92b0cf",
            "5121fd3fffa242edaef1e1a8208669bc",
            "6893d91f89094153a5e6c205110a73b9",
            "63b9d39709c340aeb7d787b50660f2c8",
            "69705c0db97441479aee6b6b71a48a51"
          ]
        },
        "id": "-tSEH5QgbNIf",
        "outputId": "2740ab4d-f8bd-4013-d3ce-5515e4f7011f"
      },
      "execution_count": 8,
      "outputs": [
        {
          "output_type": "stream",
          "name": "stderr",
          "text": [
            "Sliding Window Attention is enabled but not implemented for `sdpa`; unexpected results may be encountered.\n"
          ]
        },
        {
          "output_type": "display_data",
          "data": {
            "text/plain": [
              "Loading checkpoint shards:   0%|          | 0/4 [00:00<?, ?it/s]"
            ],
            "application/vnd.jupyter.widget-view+json": {
              "version_major": 2,
              "version_minor": 0,
              "model_id": "2d8ed138a63e47b6a1a7e0265e98f04b"
            }
          },
          "metadata": {}
        },
        {
          "output_type": "stream",
          "name": "stderr",
          "text": [
            "WARNING:accelerate.big_modeling:Some parameters are on the meta device because they were offloaded to the cpu.\n"
          ]
        },
        {
          "output_type": "stream",
          "name": "stdout",
          "text": [
            "CPU times: user 4.36 s, sys: 4.89 s, total: 9.26 s\n",
            "Wall time: 51.4 s\n"
          ]
        }
      ]
    },
    {
      "cell_type": "code",
      "source": [
        "query = \"who was defence against the dark arts professor\""
      ],
      "metadata": {
        "id": "_GWbweZwc6DU"
      },
      "execution_count": 9,
      "outputs": []
    },
    {
      "cell_type": "code",
      "source": [
        "%%time\n",
        "prompt = query2prompt(query, index, index_to_doc_mapping, top_k=5)"
      ],
      "metadata": {
        "colab": {
          "base_uri": "https://localhost:8080/"
        },
        "id": "A-bWiHBOcnl3",
        "outputId": "393ba48e-8739-4038-bd30-51c953280ae6"
      },
      "execution_count": 10,
      "outputs": [
        {
          "output_type": "stream",
          "name": "stdout",
          "text": [
            "CPU times: user 1.01 s, sys: 141 ms, total: 1.15 s\n",
            "Wall time: 3.37 s\n"
          ]
        }
      ]
    },
    {
      "cell_type": "code",
      "source": [
        "%%time\n",
        "response = generate_message(prompt)"
      ],
      "metadata": {
        "colab": {
          "base_uri": "https://localhost:8080/"
        },
        "id": "dhSWf723cnoB",
        "outputId": "fdf234f4-60a4-4a7a-c4c6-56e6c53debb6"
      },
      "execution_count": 11,
      "outputs": [
        {
          "output_type": "stream",
          "name": "stdout",
          "text": [
            "CPU times: user 24.2 s, sys: 2.68 s, total: 26.8 s\n",
            "Wall time: 39.6 s\n"
          ]
        }
      ]
    },
    {
      "cell_type": "code",
      "source": [
        "response"
      ],
      "metadata": {
        "colab": {
          "base_uri": "https://localhost:8080/",
          "height": 36
        },
        "id": "acVimioJcnqY",
        "outputId": "07764b2f-b3dd-46d6-d523-2c450fb3cde9"
      },
      "execution_count": 12,
      "outputs": [
        {
          "output_type": "execute_result",
          "data": {
            "text/plain": [
              "'According to the context provided, Professor Quirrell was the Defense Against the Dark Arts professor.'"
            ],
            "application/vnd.google.colaboratory.intrinsic+json": {
              "type": "string"
            }
          },
          "metadata": {},
          "execution_count": 12
        }
      ]
    }
  ]
}